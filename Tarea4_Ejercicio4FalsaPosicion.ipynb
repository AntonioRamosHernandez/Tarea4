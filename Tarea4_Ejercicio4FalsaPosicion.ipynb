{
  "nbformat": 4,
  "nbformat_minor": 0,
  "metadata": {
    "colab": {
      "name": "Tarea4_Ejercicio4.ipynb",
      "provenance": [],
      "collapsed_sections": []
    },
    "kernelspec": {
      "name": "python3",
      "display_name": "Python 3"
    }
  },
  "cells": [
    {
      "cell_type": "code",
      "metadata": {
        "id": "v0r-32FY_Kby",
        "outputId": "30db88c7-b74e-4916-8a78-f5ad5c4d8a9a",
        "colab": {
          "base_uri": "https://localhost:8080/",
          "height": 322
        }
      },
      "source": [
        "# Ramos Hernández Antonio\n",
        "\n",
        "import matplotlib.pyplot as plt\n",
        "from math import log\n",
        "import math\n",
        "def biseccion():\n",
        "\n",
        "  xl= [1.0] #Lista que ira almacenando los valores del punto inicial/punto bajo, por iteración \n",
        "  xr=[] #Lista que ira almacenando los valores de la raiz por iteración \n",
        "  xu=[3.0] #Lista que ira almacenando los valores del punto final/punto alto, por iteración \n",
        "  fxl=[] #Lista que ira almacenando los valores de las funciones de punto inicial/punto, bajo por iteración \n",
        "  fxr=[] #Lista que ira almacenando los valores de las funciones de punto inicial/punto bajo por iteración \n",
        "  fxu=[] #Lista que ira almacenando los valores de las funciones de punto final/punto alto por iteración \n",
        "  Ea=0.0 #El valor de error aproximado iniciado en 0.0 por numero flotante\n",
        "  EaTerminado = 0 #Variable auxiliar que me sirve para terminar el proceso que realice en un bucle y se cumpla la condición de 0.001\n",
        "  i=0 #Variable que me servirá como indice en las listas y de apoyo en los bucles\n",
        "  \n",
        "  #Es la iteración 0 para iniciar y verificar con los intervalos f(x) y f(y) si existe o no una raiz\n",
        "  fxl.append(pow(xl[i], 3.5)-80.0) \n",
        "  fxu.append(pow(xu[i], 3.5)-80.0)\n",
        "\n",
        "  if (fxl[0]*fxu[0]<0): #Comprueba si existe una raiz en el intervalo\n",
        "    print('Existe la raiz en este intervalo')#Me verifica que si existe una raiz\n",
        "    #Aqui inicia el proceso y las operaciones de cada iteración\n",
        "    while (EaTerminado==0): \n",
        "      print('Iterador '+ str(i)) #Muestra las veces que se han hecho iteraciones en el bucle\n",
        "\n",
        "      #xr.append((xl[i] + xu[i])/2.0) #Va agregando las raices por cada iteración Biseccion\n",
        "      xr.append(((fxl[i]*xu[i])-(fxu[i]*xl[i]))/(fxl[i]-fxu[i])) #Va agregando las raices por cada iteración Falsa Posicion\n",
        "      \n",
        "      fxr.append(pow(xr[i], 3.5)-80.0)\n",
        "\n",
        "      #Muestra los valores que se van agregando a las listas de xr(las raices que se van almacenando en cada iteración)\n",
        "      #también xl, xu y sus respectivas funciones fxr, fxl, fxu. Me sirve para ir verificando cada iteración.\n",
        "      print('xr: '+str(xr))\n",
        "      print('xl: '+str(xl))\n",
        "      print('xu: '+str(xu))\n",
        "      print('fxr: '+str(fxr))\n",
        "      print('fxl: '+str(fxl))\n",
        "      print('fxu: '+str(fxu))\n",
        "      ##################################################################################################################\n",
        "      #Primero verifica si ya hubo una primera iteración con el valor de i\n",
        "      if (i>0): \n",
        "        #print('Ya se puede obtener Ea') Mensaje que me ayudaba a verificar que el Ea estaba funcionando\n",
        "        Ea=((xr[i]-xr[i-1])/xr[i])#Operación para obtener el valor error\n",
        "    \n",
        "        if(Ea<0): \n",
        "          Ea=abs(Ea)\n",
        "        if (Ea<0.0001): #Esta condición es la más importante porque verificará y terminara el bucle cuando el valor error se haya cumplido\n",
        "          EaTerminado=1 #Manda el valor de 1 para terminar el bucle\n",
        "      \n",
        "      #Verifica si se encuentra de lado izquierdo o derecho siempre y cuando sea menor a 0\n",
        "      if (fxl[i]*fxr[i]<0):\n",
        "        print('fxl fxr')\n",
        "        i+=1\n",
        "        xl.append(xl[i-1])\n",
        "        xu.append(xr[i-1])\n",
        "      else:\n",
        "        if (fxr[i]*fxu[i]<0):\n",
        "          print('fxr fxu')\n",
        "          i+=1\n",
        "          xl.append(xr[i-1])\n",
        "          xu.append(xu[i-1])\n",
        "      ######################################################################################\n",
        "      fxl.append((xl[i]**3) + (4.0*xl[i]**2.0)-10.0) #Agrega los proximos valores de la función del punto inicial/ punto fbajo\n",
        "      fxu.append((xu[i]**3) + (4.0*xu[i]**2.0)-10.0) #Agrega los proximos valores de la función del punto final/ punto alto\n",
        "      \n",
        "      print('Ea '+str(Ea)) #Muestra el valor de el valor de error que se ha obtenido en cada iteración y verificar si esta funcionando bien\n",
        "      print() #Espacio\n",
        "      \n",
        "  else:\n",
        "    print('No existe ninguna raiz en el intervalo') #No hace ningun proceso si no existe una raiz en el intervalo\n",
        "    \n",
        "\n",
        "  #Funciones que llama plt para poder Mostrar la grafica usando los valores en 'y', al igual que los valores en la coordenada x usando la raiz para ver su\n",
        "  # comportamiento. Y muestra información alrededor de la grafica\n",
        "  plt.title(\"Ejercicio 4 Metodo Falsa Posicion\", fontsize = 22)\n",
        "  plt.xlabel(\"Valores en x\", fontsize = 14)\n",
        "  plt.ylabel(\"Valores en y\", fontsize = 14) \n",
        "  plt.plot(xr)\n",
        "  plt.show()\n",
        "\n",
        "\n",
        "#Manda a llamar la funcion del metodo de bisección\n",
        "biseccion()"
      ],
      "execution_count": 4,
      "outputs": [
        {
          "output_type": "stream",
          "text": [
            "No existe ninguna raiz en el intervalo\n"
          ],
          "name": "stdout"
        },
        {
          "output_type": "display_data",
          "data": {
            "image/png": "[encoded data removed]",
            "text/plain": [
              "<Figure size 432x288 with 1 Axes>"
            ]
          },
          "metadata": {
            "tags": [],
            "needs_background": "light"
          }
        }
      ]
    }
  ]
}