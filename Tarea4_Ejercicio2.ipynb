{
  "nbformat": 4,
  "nbformat_minor": 0,
  "metadata": {
    "colab": {
      "name": "Untitled6.ipynb",
      "provenance": []
    },
    "kernelspec": {
      "name": "python3",
      "display_name": "Python 3"
    }
  },
  "cells": [
    {
      "cell_type": "code",
      "metadata": {
        "id": "cQNt3PuJpTfC",
        "outputId": "ca22e2bb-9185-4ea8-84ab-a3296a24da13",
        "colab": {
          "base_uri": "https://localhost:8080/",
          "height": 336
        }
      },
      "source": [
        "import matplotlib.pyplot as plt\n",
        "import math\n",
        "def biseccion():\n",
        "\n",
        "    xl=0\n",
        "    xu=1\n",
        "    fxl=((5*(xl**3))-(5*(xl**2))+(6*xl)-2)\n",
        "    fxu=((5*(xu**3))-(5*(xu**2))+(6*xu)-2)\n",
        "    xrgrafico=[]\n",
        "    xlgrafico=[]\n",
        "    xugrafico=[]\n",
        "    xlgrafico.append(xl)\n",
        "    xugrafico.append(xu)\n",
        "    if (fxu*fxl<0):\n",
        "        xr=(xl+xu)/2\n",
        "        fxr =((5*(xr**3))-(5*(xr**2))+(6*xr)-2)\n",
        "        xrgrafico.append(xr)\n",
        "        xlgrafico.append(xl)\n",
        "        xugrafico.append(xu)\n",
        "        c=0\n",
        "        print(\"El valor de xr es \"+ str(xr))\n",
        "        er = 1\n",
        "        while er > (10**-5):\n",
        "            if(fxu*fxr<0):\n",
        "                xl=xr\n",
        "                fxl =((5*(xl**3))-(5*(xl**2))+(6*xl)-2)\n",
        "                fxu =((5*(xu**3))-(5*(xu**2))+(6*xu)-2)\n",
        "                xr = (xl + xu) / 2\n",
        "                fxr =((5*(xr**3))-(5*(xr**2))+(6*xr)-2)\n",
        "                er=(xr-xl)/xr\n",
        "                xrgrafico.append(xr)\n",
        "                xlgrafico.append(xl)\n",
        "                xugrafico.append(xu)\n",
        "                \n",
        "            if (fxl * fxr < 0):\n",
        "                xu=xr\n",
        "                fxl =((5*(xl**3))-(5*(xl**2))+(6*xl)-2)\n",
        "                fxu =((5*(xu**3))-(5*(xu**2))+(6*xu)-2)\n",
        "                xr = (xl + xu) / 2\n",
        "                fxr =((5*(xr**3))-(5*(xr**2))+(6*xr)-2)\n",
        "                er = (xr - xl) / xr\n",
        "                xrgrafico.append(xr)\n",
        "                xlgrafico.append(xl)\n",
        "                xugrafico.append(xu)\n",
        "                \n",
        "            if (fxu*fxr>0 and fxl*fxr>0):\n",
        "                print(\"No tiene raiz, fin del programa\")\n",
        "        print(\"El valor de xr es \"+ str(xr))\n",
        "       \n",
        "        print(xrgrafico)\n",
        "        plt.plot(xrgrafico)\n",
        "        plt.show\n",
        "    else:\n",
        "        print(\"No tiene raiz, fin del programa\")\n",
        "biseccion()"
      ],
      "execution_count": 4,
      "outputs": [
        {
          "output_type": "stream",
          "text": [
            "El valor de xr es 0.5\n",
            "El valor de xr es 0.41810035705566406\n",
            "[0.5, 0.25, 0.375, 0.4375, 0.40625, 0.421875, 0.4140625, 0.41796875, 0.419921875, 0.4189453125, 0.41845703125, 0.418212890625, 0.4180908203125, 0.41815185546875, 0.418121337890625, 0.4181060791015625, 0.41809844970703125, 0.4181022644042969, 0.41810035705566406]\n"
          ],
          "name": "stdout"
        },
        {
          "output_type": "display_data",
          "data": {
            "image/png": "[encoded data removed]",
            "text/plain": [
              "<Figure size 432x288 with 1 Axes>"
            ]
          },
          "metadata": {
            "tags": [],
            "needs_background": "light"
          }
        }
      ]
    }
  ]
}